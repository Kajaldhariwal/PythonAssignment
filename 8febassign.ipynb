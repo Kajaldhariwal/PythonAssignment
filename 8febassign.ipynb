{
 "cells": [
  {
   "cell_type": "markdown",
   "id": "7d7b6831-fd2f-44b9-9429-b91885acea21",
   "metadata": {},
   "source": [
    "#                                  ASSIGNMENT - 8 Feb\n"
   ]
  },
  {
   "cell_type": "code",
   "execution_count": null,
   "id": "f10b057c-4b1a-410a-b5ae-54a98e97c807",
   "metadata": {},
   "outputs": [],
   "source": [
    "Q1. What is Abstraction in OOps? Explain with an example.\n",
    "Ans. Abstraction is the process of hiding the internal details of an application from the outer world.\n",
    "     Abstraction is used to describe things in simple terms. It’s used tocreate a boundary between the application \n",
    "     and the client programs.\n",
    "        \n",
    "     Abstraction in OOPS:-\n",
    "     objects are the building blocks of Object-Oriented Programming. An object contains some properties and methods.\n",
    "     We can hide them from the outer world through access modifiers. We can provide access only for required functions\n",
    "     and properties to the other programs. This is the general procedure to implement abstraction in OOPS.\n",
    "        \n",
    "     Let's take another example - When we use the TV remote to increase the volume. We don't know how pressing\n",
    "     a key increases the volume of the TV. We only know to press the \"+\" button to increase the volume.\n",
    "     That is exactly the abstraction that works in the object-oriented concept.\n",
    "     syntax:-\n",
    "           from abc import ABC  \n",
    "           class ClassName(ABC): \n",
    "            \n",
    "Q2. Differentiate between Abstraction and Encapsulation. Explain with an example.  \n",
    "Ans. Abstraction:-\n",
    "      Abstraction is a process of hiding unnecessary data and showing only relevant data. Out of an ocean of data,\n",
    "      we are only maintaining the transparency of some data to the user. This\n",
    "      important concept in object-oriented programming will reduce the complexity of the code and increases the \n",
    "      readability.\n",
    "        \n",
    "      Encapsulation:-\n",
    "                    Encapsulation is binding the data members with member variables. This will avoid the direct access\n",
    "        of variables,because direct access of variables may violate privacy, and hiding of the implementation will not\n",
    "        be possible.\n",
    "\n",
    "        Encapsulation minimizes your code’s part revealed to the user. The user can be anyone who uses your published \n",
    "        code or perhaps your code’s remaining part.\n",
    "\n",
    "        Encapsulation works like a protective wrapper that conceals the code and data within the class. That data and \n",
    "        code will be accessed outside the method/member function and the class that is not the members of that class.\n",
    "        \n",
    "        "
   ]
  },
  {
   "cell_type": "code",
   "execution_count": 3,
   "id": "8efd9715-463e-4e15-9895-6fbbb8911e4b",
   "metadata": {},
   "outputs": [],
   "source": [
    "class car :\n",
    "    def __init__(self , year , make , model , speed ):\n",
    "        \n",
    "        self.__year = year #Here __ is hiding the variable of class car.\n",
    "        self.__make = make\n",
    "        self.__model = model\n",
    "        self.__speed = 0\n",
    "    def set_speed(self, speed) :\n",
    "        self.__speed = 0 if speed < 0 else speed\n",
    "        \n",
    "    def get__speed(self):\n",
    "        return self.__speed\n",
    "        "
   ]
  },
  {
   "cell_type": "code",
   "execution_count": 4,
   "id": "3aba7bbb-1cfa-41d9-8d2b-cbae4fcbd14e",
   "metadata": {},
   "outputs": [],
   "source": [
    " c = car(2021, \"toyta\", \"invova\", 12)"
   ]
  },
  {
   "cell_type": "code",
   "execution_count": 5,
   "id": "21e30a70-3494-43c6-8e18-ec86bd9b7a01",
   "metadata": {},
   "outputs": [
    {
     "data": {
      "text/plain": [
       "2021"
      ]
     },
     "execution_count": 5,
     "metadata": {},
     "output_type": "execute_result"
    }
   ],
   "source": [
    "c._car__year "
   ]
  },
  {
   "cell_type": "code",
   "execution_count": 6,
   "id": "f9fa79b6-fbf9-469b-a5b7-68c9016b8bf9",
   "metadata": {},
   "outputs": [],
   "source": [
    "c.set_speed(-3245)"
   ]
  },
  {
   "cell_type": "code",
   "execution_count": 7,
   "id": "08e99d94-67d2-4ad3-8486-11a46256d135",
   "metadata": {},
   "outputs": [
    {
     "data": {
      "text/plain": [
       "0"
      ]
     },
     "execution_count": 7,
     "metadata": {},
     "output_type": "execute_result"
    }
   ],
   "source": [
    "c.get__speed()"
   ]
  },
  {
   "cell_type": "code",
   "execution_count": null,
   "id": "d2bb50c0-5f36-485a-a98a-4831f4e6222c",
   "metadata": {},
   "outputs": [],
   "source": [
    "Example:        \n",
    "\n",
    "You can better understand Encapsulation vs Abstraction with an example. Abstraction is used in mobile phones’ GUI.\n",
    "When you click on the icons, abstraction allows them to perform specific functions. Let’s look at the encapsulation\n",
    "example to clarify the Encapsulation vs Abstraction.\n",
    "After the icon is clicked, the encapsulation works in the backend to guide the user on the next steps."
   ]
  },
  {
   "cell_type": "code",
   "execution_count": null,
   "id": "170e5b62-7469-488b-98c0-f186b539e7f1",
   "metadata": {},
   "outputs": [],
   "source": [
    "Q3. What is abc module in python? Why is it used?\n",
    "Ans. This module provides the infrastructure for defining abstract base classes (ABCs) in Python, \n",
    "     as outlined in PEP 3119; see the PEP for why this was added to Python. (See also PEP 3141 and the numbers \n",
    "     module regarding a type hierarchy for numbers based on ABCs.)"
   ]
  },
  {
   "cell_type": "code",
   "execution_count": 10,
   "id": "74f61795-fd16-46e6-b470-a3cd729293e1",
   "metadata": {},
   "outputs": [],
   "source": [
    "from abc import ABC\n",
    "\n",
    "class MyABC(ABC):\n",
    "    pass"
   ]
  },
  {
   "cell_type": "code",
   "execution_count": null,
   "id": "534b17cc-19e7-4c3b-91b2-1684674ac553",
   "metadata": {},
   "outputs": [],
   "source": [
    "   The ‘abc’ module in the Python library provides the infrastructure for defining custom abstract base classes.\n",
    "    Abstract class cannot be instantiated in python. An Abstract method can be call by its subclasses."
   ]
  },
  {
   "cell_type": "code",
   "execution_count": null,
   "id": "d644c120-4cff-4f35-8fa6-123fd3952a1e",
   "metadata": {},
   "outputs": [],
   "source": [
    "Q4. How can we achieve data abstraction?\n",
    "Ans. Data Abstraction in Python:-\n",
    "     Data Abstraction in Python can be achieved through creating abstract classes and inheriting them later.\n",
    "     Before discussing what abstract classes are, let us have a brief introduction of inheritance.\n",
    "\n",
    "    Inheritance in OOP is a way through which one class inherits the attributes and methods of another class. \n",
    "    The class whose properties and methods are inherited is known as the Parent class. And the class that \n",
    "    inherits the properties from the parent class is the Child class/subclass.\n",
    "\n",
    "    The basic syntax to implement inheritance in Python is:-\n",
    "        class parent_class :\n",
    "            body of parent class\n",
    "\n",
    "        class child_class( parent_class) :\n",
    "             body of child class\n",
    "        \n",
    "        \n",
    "Q5. Can we create an instance of an abstract class? Explain your answer.\n",
    "Ans. An abstract class cannot be instantiated.\n",
    "\n",
    "     An abstract class may contain abstract methods and accessors.\n",
    "\n",
    "     It is not possible to modify an abstract class with the sealed modifier because the two modifiers have opposite\n",
    "     meanings. The sealed modifier prevents a class from being inherited and the abstract modifier requires a class \n",
    "     to be inherited.\n",
    "\n",
    "      A non-abstract class derived from an abstract class must include actual implementations of all inherited abstract \n",
    "      methods and accessors."
   ]
  }
 ],
 "metadata": {
  "kernelspec": {
   "display_name": "Python 3 (ipykernel)",
   "language": "python",
   "name": "python3"
  },
  "language_info": {
   "codemirror_mode": {
    "name": "ipython",
    "version": 3
   },
   "file_extension": ".py",
   "mimetype": "text/x-python",
   "name": "python",
   "nbconvert_exporter": "python",
   "pygments_lexer": "ipython3",
   "version": "3.10.8"
  }
 },
 "nbformat": 4,
 "nbformat_minor": 5
}
