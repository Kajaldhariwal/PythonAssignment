{
 "cells": [
  {
   "cell_type": "code",
   "execution_count": null,
   "id": "ea74a71c-7235-4737-bae6-73c74de737a1",
   "metadata": {},
   "outputs": [],
   "source": [
    "                          ASSIGNMENT - 5 Feb\n",
    "    \n",
    "Q1. Explain Class and Object with respect to Object-Oriented Programming. Give a suitable example.\n",
    "Ans. A class is considered as a blueprint of objects. We can think of the class as a sketch (prototype)\n",
    "     of a house. It contains all the details about the floors, doors, windows, etc. Based on these \n",
    "     escriptions we build the house. House is the object.\n",
    "\n",
    "    Since many houses can be made from the same description, we can create many objects from a class.\n",
    "    \n",
    "    Object:- \n",
    "           An object is called an instance of a class."
   ]
  },
  {
   "cell_type": "code",
   "execution_count": 1,
   "id": "19a3c959-92b2-4c43-af97-5e558baf59ce",
   "metadata": {},
   "outputs": [],
   "source": [
    "class pwskills :\n",
    "    \n",
    "     def welcome_msg(self):\n",
    "            print(\"welcome to pwskills\")"
   ]
  },
  {
   "cell_type": "code",
   "execution_count": 2,
   "id": "5fdfe0eb-2f5c-4512-b827-5220d8dd2439",
   "metadata": {},
   "outputs": [],
   "source": [
    "rohan = pwskills()  # Object"
   ]
  },
  {
   "cell_type": "code",
   "execution_count": 3,
   "id": "5f123134-42f6-4fc2-80d5-0fd558754099",
   "metadata": {},
   "outputs": [
    {
     "name": "stdout",
     "output_type": "stream",
     "text": [
      "welcome to pwskills\n"
     ]
    }
   ],
   "source": [
    "rohan.welcome_msg()"
   ]
  },
  {
   "cell_type": "code",
   "execution_count": null,
   "id": "29ce1b17-7695-4ae7-afdf-a718c124019e",
   "metadata": {},
   "outputs": [],
   "source": [
    "Q2. Name the four pillars of OOPs.\n",
    "Ans. 1. Abstraction.\n",
    "     2. Encapsulation.\n",
    "     3. Inheritance.\n",
    "     4. Polymorphism.\n",
    "    \n",
    "    \n",
    "Q3. Explain why the __init__() function is used. Give a suitable example.\n",
    "Ans. Let’s say you are making a program which stores information about cars. You will create a class of name Car \n",
    "     and then create objects of different cars. When creating a class object, we pass different things to it.\n",
    "     In the case of cars, it will be company model, year of manufacture, etc. So, inside the class, we need a function\n",
    "     that can assign all the arguments passed while creating the object to the newly created object. Or you might want\n",
    "     to print something whenever a new car is added to your program.\n",
    "\n",
    "     There is a method called __init__() for this task. This method is called automatically whenever a new object of\n",
    "    a class is created. This type of function is also known as the constructor function. A constructor function is a \n",
    "    function that is called every time a new class object is created."
   ]
  },
  {
   "cell_type": "code",
   "execution_count": 4,
   "id": "7c92b6ae-7b1d-445b-8724-a865264bd289",
   "metadata": {},
   "outputs": [
    {
     "name": "stdout",
     "output_type": "stream",
     "text": [
      "I ran first\n",
      "I ran second\n",
      "Name: Audi R8\n"
     ]
    }
   ],
   "source": [
    "class Car:\n",
    "    def __init__(self, name):\n",
    "        self.name = name\n",
    "        print(\"I ran first\")\n",
    " \n",
    "    def product(self):\n",
    "        print(\"I ran second\")\n",
    "        return (\"Name: \" + self.name)\n",
    " \n",
    " \n",
    "C = Car('Audi R8')\n",
    "print(C.product())"
   ]
  },
  {
   "cell_type": "code",
   "execution_count": null,
   "id": "d7b140df-b4fa-44af-a929-6d36a930ff1c",
   "metadata": {},
   "outputs": [],
   "source": [
    "Q4. Why self is used in OOPs?\n",
    "Ans. The self is used to represent the instance of the class. With this keyword, you can access the attributes\n",
    "     and methods of the class in python. It binds the attributes with the given arguments. The reason why we use self is \n",
    "     that Python does not use the ‘@’ syntax to refer to instance attributes. "
   ]
  },
  {
   "cell_type": "code",
   "execution_count": null,
   "id": "0e4c50c9-62e2-487d-b1d5-f4add5ce456a",
   "metadata": {},
   "outputs": [],
   "source": [
    "Q5. What is inheritance? Give an example for each type of inheritance.\n",
    "Ans. Inheritance is a mechanism of acquiring the features and behaviors of a class by another class. The class \n",
    "     whose members are inherited is called the base class, and the class that inherits those members is called the\n",
    "     derived class. Inheritance implements the IS-A relationship.\n",
    "     For example, mammal IS-A animal, dog IS-A mammal; Hence dog IS-A animal as well.\n",
    "     \n",
    "    six different types of inheritance as given below :\n",
    "\n",
    "   Single inheritance:-\n"
   ]
  },
  {
   "cell_type": "code",
   "execution_count": 5,
   "id": "a0f2a664-a312-4170-90b3-c668c867bf16",
   "metadata": {},
   "outputs": [
    {
     "name": "stdout",
     "output_type": "stream",
     "text": [
      "This function is in parent class.\n",
      "This function is in child class.\n"
     ]
    }
   ],
   "source": [
    "class Parent:\n",
    "    def func1(self):\n",
    "        print(\"This function is in parent class.\")\n",
    " \n",
    "# Derived class\n",
    " \n",
    " \n",
    "class Child(Parent):\n",
    "    def func2(self):\n",
    "        print(\"This function is in child class.\")\n",
    " \n",
    " \n",
    "# Driver's code\n",
    "object = Child()\n",
    "object.func1()\n",
    "object.func2()"
   ]
  },
  {
   "cell_type": "code",
   "execution_count": null,
   "id": "8b60403b-04b8-499f-8a31-bbaab3a4e1f3",
   "metadata": {},
   "outputs": [],
   "source": [
    " Multiple Inheritence:-"
   ]
  },
  {
   "cell_type": "code",
   "execution_count": 7,
   "id": "d75a0644-9893-4c69-accd-38fa203bc173",
   "metadata": {},
   "outputs": [
    {
     "name": "stdout",
     "output_type": "stream",
     "text": [
      "Father : RAM\n",
      "Mother : SITA\n"
     ]
    }
   ],
   "source": [
    "\n",
    "# Python program to demonstrate\n",
    "# multiple inheritance\n",
    " \n",
    "# Base class1\n",
    "class Mother:\n",
    "    mothername = \"\"\n",
    " \n",
    "    def mother(self):\n",
    "        print(self.mothername)\n",
    " \n",
    "# Base class2\n",
    " \n",
    " \n",
    "class Father:\n",
    "    fathername = \"\"\n",
    " \n",
    "    def father(self):\n",
    "        print(self.fathername)\n",
    " \n",
    "# Derived class\n",
    " \n",
    " \n",
    "class Son(Mother, Father):\n",
    "    def parents(self):\n",
    "        print(\"Father :\", self.fathername)\n",
    "        print(\"Mother :\", self.mothername)\n",
    " \n",
    " \n",
    "# Driver's code\n",
    "s1 = Son()\n",
    "s1.fathername = \"RAM\"\n",
    "s1.mothername = \"SITA\"\n",
    "s1.parents()\n"
   ]
  },
  {
   "cell_type": "code",
   "execution_count": null,
   "id": "7796a5eb-38c5-4cfd-8e0f-cbcc88708d72",
   "metadata": {},
   "outputs": [],
   "source": [
    " Multilevel Inheritence:-"
   ]
  },
  {
   "cell_type": "code",
   "execution_count": 8,
   "id": "f1a35e2d-b801-4dbb-a140-153b21e47638",
   "metadata": {},
   "outputs": [
    {
     "name": "stdout",
     "output_type": "stream",
     "text": [
      "Lal mani\n",
      "Grandfather name : Lal mani\n",
      "Father name : Rampal\n",
      "Son name : Prince\n"
     ]
    }
   ],
   "source": [
    "\n",
    "# Python program to demonstrate\n",
    "# multilevel inheritance\n",
    " \n",
    "# Base class\n",
    " \n",
    " \n",
    "class Grandfather:\n",
    " \n",
    "    def __init__(self, grandfathername):\n",
    "        self.grandfathername = grandfathername\n",
    " \n",
    "# Intermediate class\n",
    " \n",
    " \n",
    "class Father(Grandfather):\n",
    "    def __init__(self, fathername, grandfathername):\n",
    "        self.fathername = fathername\n",
    " \n",
    "        # invoking constructor of Grandfather class\n",
    "        Grandfather.__init__(self, grandfathername)\n",
    " \n",
    "# Derived class\n",
    " \n",
    " \n",
    "class Son(Father):\n",
    "    def __init__(self, sonname, fathername, grandfathername):\n",
    "        self.sonname = sonname\n",
    " \n",
    "        # invoking constructor of Father class\n",
    "        Father.__init__(self, fathername, grandfathername)\n",
    " \n",
    "    def print_name(self):\n",
    "        print('Grandfather name :', self.grandfathername)\n",
    "        print(\"Father name :\", self.fathername)\n",
    "        print(\"Son name :\", self.sonname)\n",
    " \n",
    " \n",
    "#  Driver code\n",
    "s1 = Son('Prince', 'Rampal', 'Lal mani')\n",
    "print(s1.grandfathername)\n",
    "s1.print_name()"
   ]
  },
  {
   "cell_type": "code",
   "execution_count": null,
   "id": "5d466710-493f-45c5-b1be-647cb13897a1",
   "metadata": {},
   "outputs": [],
   "source": [
    "Hierarchical Inheritance: -"
   ]
  },
  {
   "cell_type": "code",
   "execution_count": 9,
   "id": "36bdb0d1-f616-4fa0-8447-0fc6b54bd99b",
   "metadata": {},
   "outputs": [
    {
     "name": "stdout",
     "output_type": "stream",
     "text": [
      "This function is in parent class.\n",
      "This function is in child 1.\n",
      "This function is in parent class.\n",
      "This function is in child 2.\n"
     ]
    }
   ],
   "source": [
    "# Python program to demonstrate\n",
    "# Hierarchical inheritance\n",
    "\n",
    "\n",
    "# Base class\n",
    "class Parent:\n",
    "\tdef func1(self):\n",
    "\t\tprint(\"This function is in parent class.\")\n",
    "\n",
    "# Derived class1\n",
    "\n",
    "\n",
    "class Child1(Parent):\n",
    "\tdef func2(self):\n",
    "\t\tprint(\"This function is in child 1.\")\n",
    "\n",
    "# Derivied class2\n",
    "\n",
    "\n",
    "class Child2(Parent):\n",
    "\tdef func3(self):\n",
    "\t\tprint(\"This function is in child 2.\")\n",
    "\n",
    "\n",
    "# Driver's code\n",
    "object1 = Child1()\n",
    "object2 = Child2()\n",
    "object1.func1()\n",
    "object1.func2()\n",
    "object2.func1()\n",
    "object2.func3()\n"
   ]
  },
  {
   "cell_type": "code",
   "execution_count": null,
   "id": "33402cd7-d297-4880-b5ae-06bc85836ab5",
   "metadata": {},
   "outputs": [],
   "source": [
    "Hybrid Inheritance: -"
   ]
  },
  {
   "cell_type": "code",
   "execution_count": 10,
   "id": "e0f8f2fb-7eed-46cf-b6b1-7a46dae66572",
   "metadata": {},
   "outputs": [
    {
     "name": "stdout",
     "output_type": "stream",
     "text": [
      "This function is in school.\n",
      "This function is in student 1. \n"
     ]
    }
   ],
   "source": [
    "# Python program to demonstrate\n",
    "# hybrid inheritance\n",
    "\n",
    "\n",
    "class School:\n",
    "\tdef func1(self):\n",
    "\t\tprint(\"This function is in school.\")\n",
    "\n",
    "\n",
    "class Student1(School):\n",
    "\tdef func2(self):\n",
    "\t\tprint(\"This function is in student 1. \")\n",
    "\n",
    "\n",
    "class Student2(School):\n",
    "\tdef func3(self):\n",
    "\t\tprint(\"This function is in student 2.\")\n",
    "\n",
    "\n",
    "class Student3(Student1, School):\n",
    "\tdef func4(self):\n",
    "\t\tprint(\"This function is in student 3.\")\n",
    "\n",
    "\n",
    "# Driver's code\n",
    "object = Student3()\n",
    "object.func1()\n",
    "object.func2()\n"
   ]
  },
  {
   "cell_type": "code",
   "execution_count": null,
   "id": "7d31b747-8ff0-412a-bb8e-55f1bda8049a",
   "metadata": {},
   "outputs": [],
   "source": []
  }
 ],
 "metadata": {
  "kernelspec": {
   "display_name": "Python 3 (ipykernel)",
   "language": "python",
   "name": "python3"
  },
  "language_info": {
   "codemirror_mode": {
    "name": "ipython",
    "version": 3
   },
   "file_extension": ".py",
   "mimetype": "text/x-python",
   "name": "python",
   "nbconvert_exporter": "python",
   "pygments_lexer": "ipython3",
   "version": "3.10.8"
  }
 },
 "nbformat": 4,
 "nbformat_minor": 5
}
