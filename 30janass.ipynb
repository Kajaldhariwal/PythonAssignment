{
 "cells": [
  {
   "cell_type": "code",
   "execution_count": null,
   "id": "730e8094-1108-4f75-a963-dfef1661205a",
   "metadata": {},
   "outputs": [],
   "source": [
    "                                               ASSIGNMENT - 30 JAN"
   ]
  },
  {
   "cell_type": "code",
   "execution_count": null,
   "id": "7ba47c87-f634-412d-80cf-847cf7f7dbfd",
   "metadata": {},
   "outputs": [],
   "source": [
    "\"\"\"1. write a program to accept percentage from the user and display the grade according to the following\n",
    "   criteria.\n",
    "    Marks            Grade\n",
    "    >90                A\n",
    "    >80 and <=90       B\n",
    "    >=60 and <= 80     C\n",
    "    below 60           D  \n",
    "Ans. \"\""
   ]
  },
  {
   "cell_type": "code",
   "execution_count": 1,
   "id": "73721132-bd4f-46ab-a28b-6fef4c791fc3",
   "metadata": {},
   "outputs": [
    {
     "name": "stdin",
     "output_type": "stream",
     "text": [
      "enter marks 45\n"
     ]
    },
    {
     "name": "stdout",
     "output_type": "stream",
     "text": [
      "D\n"
     ]
    }
   ],
   "source": [
    "marks = int(input(\"enter marks\"))\n",
    "if marks > 90:\n",
    "    print(\"A\")\n",
    "elif marks >80 and marks <= 90:\n",
    "    print(\"B\")\n",
    "elif marks >= 60 and marks <= 80:\n",
    "    print(\"C\")\n",
    "else:\n",
    "    print(\"D\")"
   ]
  },
  {
   "cell_type": "code",
   "execution_count": null,
   "id": "fa8fe34e-f765-484e-86f3-c913ea3765d3",
   "metadata": {},
   "outputs": [],
   "source": [
    "\"\"\"2. Write a program to accept the cost price of a bike and display the road tax to be paid ccording to the \n",
    "      following criteria:\n",
    "       \n",
    "       Tax                                      Cost Price(in Rs)\n",
    "      15%                                          >100000\n",
    "      10%                                          >50000 and <= 100000\n",
    "      5%                                           <= 50000\n",
    "Ans. \"\"\""
   ]
  },
  {
   "cell_type": "code",
   "execution_count": 2,
   "id": "f13b3982-375b-4de0-8393-9dcc78e0eb89",
   "metadata": {},
   "outputs": [
    {
     "name": "stdin",
     "output_type": "stream",
     "text": [
      "enter the cost price of a bike 67000\n"
     ]
    },
    {
     "name": "stdout",
     "output_type": "stream",
     "text": [
      "10% road tax\n"
     ]
    }
   ],
   "source": [
    "costprice = int(input(\"enter the cost price of a bike\"))\n",
    "if costprice > 100000:\n",
    "    print(\"15% road tax\")\n",
    "elif costprice >50000 and costprice <= 100000:\n",
    "    print(\"10% road tax\")\n",
    "elif costprice <= 50000:\n",
    "    print(\"5% road tax\")"
   ]
  },
  {
   "cell_type": "code",
   "execution_count": null,
   "id": "881b45b8-24fa-4c93-a08f-9742987e457f",
   "metadata": {},
   "outputs": [],
   "source": [
    "\"\"\"3. Accept any city from user and display monuments of the city.\n",
    "    city                         Monument\n",
    "    Delhi                         Red Fort\n",
    "    Agra                          Taj mahal\n",
    "    Jaipur                         Jai mahal\n",
    "Ans. \"\""
   ]
  },
  {
   "cell_type": "code",
   "execution_count": 3,
   "id": "2018c4eb-c914-40d1-be19-d7564df59a3c",
   "metadata": {},
   "outputs": [
    {
     "name": "stdin",
     "output_type": "stream",
     "text": [
      "enter a city Delhi\n"
     ]
    },
    {
     "name": "stdout",
     "output_type": "stream",
     "text": [
      "Red Fort\n"
     ]
    }
   ],
   "source": [
    "city = (input(\"enter a city\"))\n",
    "if city == \"Delhi\":\n",
    "    print(\"Red Fort\")\n",
    "elif city == \"Agra\":\n",
    "    print(\"Taj Mahal\")\n",
    "elif city == \"Jaipur\":\n",
    "    print(\"Jai Mahal\")"
   ]
  },
  {
   "cell_type": "code",
   "execution_count": null,
   "id": "80e7d29c-614c-4409-9016-077ea6e06c99",
   "metadata": {},
   "outputs": [],
   "source": [
    "4. Check how many times a given number can be divided by 3 before it is less than or equal to 10.\n",
    "Ans. \n"
   ]
  },
  {
   "cell_type": "code",
   "execution_count": 1,
   "id": "fc4e04c0-0118-4917-976f-55efdcdaca12",
   "metadata": {},
   "outputs": [
    {
     "name": "stdout",
     "output_type": "stream",
     "text": [
      "total iteration is  3\n"
     ]
    }
   ],
   "source": [
    "count = 0\n",
    "number = 180 \n",
    "while number > 10:\n",
    "    number = number/3\n",
    "    count = count + 1\n",
    "print(\"total iteration is \", count)\n",
    "\n"
   ]
  },
  {
   "cell_type": "code",
   "execution_count": null,
   "id": "852ecf71-117f-4565-bc57-061ac8288102",
   "metadata": {},
   "outputs": [],
   "source": [
    "5. Why and when to use while loop in python give a detailed description with example.\n",
    "Ans \n",
    "   When we need to end the loop on a condition other than the number of times, we use a while loop.\n",
    "   In this case, it is not necessary to know the condition beforehand. That is why we can give a \n",
    "   boolean expression in the initialization of the loop.\n",
    "   While loop example:-\n",
    "                         i = 1  # Initialization\n",
    "                         while i < 6:  # Condition\n",
    "                               print(i)\n",
    "                               i += 1  # Updation\n",
    "                        Output:-\n",
    "                              1\n",
    "                              2\n",
    "                              3\n",
    "                              4\n",
    "                              5 \n",
    "                        \n",
    "                        \n",
    "                        \n",
    "6. Use nested while loop to print 3 different pattern.\n",
    "Ans. 1."
   ]
  },
  {
   "cell_type": "code",
   "execution_count": 4,
   "id": "48a4f198-d704-4b8e-824e-f8b3b08d18e3",
   "metadata": {},
   "outputs": [
    {
     "name": "stdin",
     "output_type": "stream",
     "text": [
      "Enter number of rows :  4\n"
     ]
    },
    {
     "name": "stdout",
     "output_type": "stream",
     "text": [
      "* \n",
      "* * \n",
      "* * * \n",
      "* * * * \n"
     ]
    }
   ],
   "source": [
    "n = int(input('Enter number of rows : '))\n",
    " \n",
    "i = 1\n",
    "while i <= n :\n",
    "    j = 1\n",
    "    while j <= i:\n",
    "        print(\"*\", end = \" \")\n",
    "        j += 1\n",
    "    print()\n",
    "    i += 1"
   ]
  },
  {
   "cell_type": "code",
   "execution_count": null,
   "id": "c0ccaa0e-edf1-44f2-ae1c-489ce69f7f18",
   "metadata": {},
   "outputs": [],
   "source": [
    "2."
   ]
  },
  {
   "cell_type": "code",
   "execution_count": 5,
   "id": "8139f188-cfe0-4ffe-a9ff-76324c352af0",
   "metadata": {},
   "outputs": [
    {
     "name": "stdin",
     "output_type": "stream",
     "text": [
      "Enter number of rows :  6\n"
     ]
    },
    {
     "name": "stdout",
     "output_type": "stream",
     "text": [
      "  1 \n",
      "  2   3 \n",
      "  4   5   6 \n",
      "  7   8   9  10 \n",
      " 11  12  13  14  15 \n",
      " 16  17  18  19  20  21 \n"
     ]
    }
   ],
   "source": [
    "n = int(input('Enter number of rows : '))\n",
    " \n",
    "k = 1\n",
    "i = 1\n",
    "while i <= n :\n",
    "    j = 1\n",
    "    while j <= i:\n",
    "        print(\"{:3d}\".format(k), end = \" \")\n",
    "        j += 1\n",
    "        k += 1\n",
    "    print()\n",
    "    i += 1"
   ]
  },
  {
   "cell_type": "code",
   "execution_count": null,
   "id": "c7bf779f-8d41-4e03-998a-f27311229ea9",
   "metadata": {},
   "outputs": [],
   "source": [
    "3."
   ]
  },
  {
   "cell_type": "code",
   "execution_count": 6,
   "id": "6edcd180-a4b0-42a8-a78d-8ace41ecb3f2",
   "metadata": {},
   "outputs": [
    {
     "name": "stdin",
     "output_type": "stream",
     "text": [
      "Enter number of rows :  5\n"
     ]
    },
    {
     "name": "stdout",
     "output_type": "stream",
     "text": [
      "* * * * * \n",
      "* * * * \n",
      "* * * \n",
      "* * \n",
      "* \n"
     ]
    }
   ],
   "source": [
    "n = int(input('Enter number of rows : '))\n",
    " \n",
    "i = 1\n",
    "while i <= n :\n",
    "    j = n\n",
    "    while j >= i:\n",
    "        print(\"*\", end = \" \")\n",
    "        j -= 1\n",
    "    print()\n",
    "    i += 1"
   ]
  },
  {
   "cell_type": "code",
   "execution_count": null,
   "id": "849bd471-4aa0-4529-b8da-343d2955acf4",
   "metadata": {},
   "outputs": [],
   "source": [
    "7. Reverse a while loop to display numbers from 10 to 1.\n",
    "Ans."
   ]
  },
  {
   "cell_type": "code",
   "execution_count": 7,
   "id": "f9d7ff03-e38a-43d9-a107-dfbfb2243520",
   "metadata": {},
   "outputs": [
    {
     "name": "stdout",
     "output_type": "stream",
     "text": [
      "10\n",
      "9\n",
      "8\n",
      "7\n",
      "6\n",
      "5\n",
      "4\n",
      "3\n",
      "2\n",
      "1\n"
     ]
    }
   ],
   "source": [
    "i = 10\n",
    "while i > 0:\n",
    "    print(i)\n",
    "    i = i - 1"
   ]
  },
  {
   "cell_type": "code",
   "execution_count": null,
   "id": "98c624f7-9a84-438e-9416-e13b619c43e6",
   "metadata": {},
   "outputs": [],
   "source": [
    "8.  Reverse a while loop to display numbers from 10 to 1.\n",
    "Ans."
   ]
  },
  {
   "cell_type": "code",
   "execution_count": 8,
   "id": "c6b5476b-552e-4867-8b52-a3260f6a2a40",
   "metadata": {},
   "outputs": [
    {
     "name": "stdout",
     "output_type": "stream",
     "text": [
      "10\n",
      "9\n",
      "8\n",
      "7\n",
      "6\n",
      "5\n",
      "4\n",
      "3\n",
      "2\n",
      "1\n"
     ]
    }
   ],
   "source": [
    "i = 10\n",
    "while i > 0:\n",
    "    print(i)\n",
    "    i = i - 1"
   ]
  },
  {
   "cell_type": "code",
   "execution_count": null,
   "id": "e9e558ae-7abe-4ad2-ad20-3e84a40e2e60",
   "metadata": {},
   "outputs": [],
   "source": []
  }
 ],
 "metadata": {
  "kernelspec": {
   "display_name": "Python 3 (ipykernel)",
   "language": "python",
   "name": "python3"
  },
  "language_info": {
   "codemirror_mode": {
    "name": "ipython",
    "version": 3
   },
   "file_extension": ".py",
   "mimetype": "text/x-python",
   "name": "python",
   "nbconvert_exporter": "python",
   "pygments_lexer": "ipython3",
   "version": "3.10.8"
  }
 },
 "nbformat": 4,
 "nbformat_minor": 5
}
