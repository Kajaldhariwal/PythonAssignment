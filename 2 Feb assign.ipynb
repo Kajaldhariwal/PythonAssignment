{
 "cells": [
  {
   "cell_type": "code",
   "execution_count": null,
   "id": "8634c362-4e34-408e-9547-9b9ad8b0d18e",
   "metadata": {},
   "outputs": [],
   "source": [
    "                                               ASSIGNMENT - 2 Feb"
   ]
  },
  {
   "cell_type": "code",
   "execution_count": null,
   "id": "4a332e6e-d4b6-45d4-83b9-8f4bd58b435e",
   "metadata": {},
   "outputs": [],
   "source": [
    "Q1. Explain  with an example each when to use a for loop and a while loop.\n",
    "Ans. The for loop is used when we already know the number of iterations, which means when we know\n",
    "    how many times a statement has to be executed. \n",
    "    That is why we have to specify the ending point in the for loop initialization.\n",
    "    for loop examole:- \n",
    "                     n = [1, 2, 3]  # Initialization\n",
    "                     for i in n:  # Condition and Updation\n",
    "                         print(i)\n",
    "                    \n",
    "                    OUTPUT :- \n",
    "                                 1\n",
    "                                 2\n",
    "                                 3\n",
    "\n",
    "   When we need to end the loop on a condition other than the number of times, we use a while loop.\n",
    "   In this case, it is not necessary to know the condition beforehand. That is why we can give a \n",
    "   boolean expression in the initialization of the loop.\n",
    "   While loop example:-\n",
    "                         i = 1  # Initialization\n",
    "                         while i < 6:  # Condition\n",
    "                               print(i)\n",
    "                               i += 1  # Updation\n",
    "                        Output:-\n",
    "                              1\n",
    "                              2\n",
    "                              3\n",
    "                              4\n",
    "                              5 \n",
    "                        \n",
    "                        \n",
    "Q2. Write a python program to print the sum and product of the first 10 natural numbers using for\n",
    "    and while loop."
   ]
  },
  {
   "cell_type": "markdown",
   "id": "b3147192-acd2-4c3c-ae4c-7ed562f60c4c",
   "metadata": {},
   "source": [
    "# Ans."
   ]
  },
  {
   "cell_type": "code",
   "execution_count": 1,
   "id": "b62391dd-621b-43c8-9d8b-f641ef92ab1d",
   "metadata": {},
   "outputs": [
    {
     "name": "stdout",
     "output_type": "stream",
     "text": [
      "sum is 55\n",
      "product is 3628800\n"
     ]
    }
   ],
   "source": [
    "n = 10\n",
    "sum = 0\n",
    "product = 1\n",
    "while n>0:\n",
    "    sum = sum + n\n",
    "    product = product * n\n",
    "    n = n-1\n",
    "print(\"sum is\", sum)\n",
    "print(\"product is\", product)\n"
   ]
  },
  {
   "cell_type": "code",
   "execution_count": null,
   "id": "e1169771-601e-4985-a404-55a421ffb27d",
   "metadata": {},
   "outputs": [],
   "source": [
    "Q3. Create a python program to compute the electricity bill for a household\n",
    "    The per-unit charges in rupees are as follows: For the first 100 units, the user will be charged Rs. 4.5 per \n",
    "    unit, for the next 100 units, the user will be charged Rs. 6 per unit, and for the next 100 units, the user will \n",
    "    be charged Rs. 10 per unit, After 300 units and above the user will be charged Rs. 20 per unit.\n",
    "\n",
    "\n",
    "    You are required to take the units of electricity consumed in a month from the user as input.\n",
    "\n",
    "\n",
    "    Your program must pass this test case: when the unit of electricity consumed by the user in a month is \n",
    "    310, the total electricity bill should be 2250."
   ]
  },
  {
   "cell_type": "code",
   "execution_count": 15,
   "id": "497997f7-1dc9-407c-a5d7-22b612c8eb4c",
   "metadata": {},
   "outputs": [
    {
     "name": "stdin",
     "output_type": "stream",
     "text": [
      "enter the consumed unit 310\n"
     ]
    },
    {
     "name": "stdout",
     "output_type": "stream",
     "text": [
      "electricity bill is  2250.0\n"
     ]
    }
   ],
   "source": [
    "unit = int(input(\"enter the consumed unit\"))\n",
    "electricity_bill = 1\n",
    "if unit <=100:\n",
    "    electricity_bill = unit * 4.5\n",
    "    print(\"electricity bill is \", electricity_bill)\n",
    "\n",
    "\n",
    "if unit > 100 and unit <=200:\n",
    "    electricity_bill = 100 * 4.5 + (unit -100) * 6\n",
    "    print(\"electricity bill is \", electricity_bill)\n",
    "\n",
    "\n",
    "if unit>200 and unit<=300:\n",
    "    electricity_bill = 100 * 4.5 + 100 * 6 + (unit - 200) * 10\n",
    "    print(\"electricity bill is \", electricity_bill)\n",
    "    \n",
    "\n",
    "elif unit>300:\n",
    "    \n",
    "    electricity_bill = 100 * 4.5 + 100 * 6 + 100 * 10 + (unit - 300) * 20\n",
    "    print(\"electricity bill is \", electricity_bill)\n",
    "    \n",
    "\n"
   ]
  },
  {
   "cell_type": "code",
   "execution_count": null,
   "id": "72302ff2-d5eb-4791-b2c2-f32d472e87d8",
   "metadata": {},
   "outputs": [],
   "source": [
    "Q4. Create a list of numbers from 1 to 100. Use for loop and while loop to calculate the cube of each \n",
    "number and if the cube of that number is divisible by 4 or 5 then append that number in a list and print \n",
    "that list."
   ]
  },
  {
   "cell_type": "code",
   "execution_count": 54,
   "id": "91da3ade-dcb5-4e44-a7e0-35ecde4ad834",
   "metadata": {},
   "outputs": [
    {
     "name": "stdout",
     "output_type": "stream",
     "text": [
      "[1, 2, 3, 4, 5, 6, 7, 8, 9, 10, 11, 12, 13, 14, 15, 16, 17, 18, 19, 20, 21, 22, 23, 24, 25, 26, 27, 28, 29, 30, 31, 32, 33, 34, 35, 36, 37, 38, 39, 40, 41, 42, 43, 44, 45, 46, 47, 48, 49, 50, 51, 52, 53, 54, 55, 56, 57, 58, 59, 60, 61, 62, 63, 64, 65, 66, 67, 68, 69, 70, 71, 72, 73, 74, 75, 76, 77, 78, 79, 80, 81, 82, 83, 84, 85, 86, 87, 88, 89, 90, 91, 92, 93, 94, 95, 96, 97, 98, 99, 100]\n",
      "cube of 100 is 1\n",
      "cube of 100 is 8\n",
      "cube of 100 is 27\n",
      "cube of 100 is 64\n",
      "cube of 100 is 125\n",
      "cube of 100 is 216\n",
      "cube of 100 is 343\n",
      "cube of 100 is 512\n",
      "cube of 100 is 729\n",
      "cube of 100 is 1000\n",
      "cube of 100 is 1331\n",
      "cube of 100 is 1728\n",
      "cube of 100 is 2197\n",
      "cube of 100 is 2744\n",
      "cube of 100 is 3375\n",
      "cube of 100 is 4096\n",
      "cube of 100 is 4913\n",
      "cube of 100 is 5832\n",
      "cube of 100 is 6859\n",
      "cube of 100 is 8000\n",
      "cube of 100 is 9261\n",
      "cube of 100 is 10648\n",
      "cube of 100 is 12167\n",
      "cube of 100 is 13824\n",
      "cube of 100 is 15625\n",
      "cube of 100 is 17576\n",
      "cube of 100 is 19683\n",
      "cube of 100 is 21952\n",
      "cube of 100 is 24389\n",
      "cube of 100 is 27000\n",
      "cube of 100 is 29791\n",
      "cube of 100 is 32768\n",
      "cube of 100 is 35937\n",
      "cube of 100 is 39304\n",
      "cube of 100 is 42875\n",
      "cube of 100 is 46656\n",
      "cube of 100 is 50653\n",
      "cube of 100 is 54872\n",
      "cube of 100 is 59319\n",
      "cube of 100 is 64000\n",
      "cube of 100 is 68921\n",
      "cube of 100 is 74088\n",
      "cube of 100 is 79507\n",
      "cube of 100 is 85184\n",
      "cube of 100 is 91125\n",
      "cube of 100 is 97336\n",
      "cube of 100 is 103823\n",
      "cube of 100 is 110592\n",
      "cube of 100 is 117649\n",
      "cube of 100 is 125000\n",
      "cube of 100 is 132651\n",
      "cube of 100 is 140608\n",
      "cube of 100 is 148877\n",
      "cube of 100 is 157464\n",
      "cube of 100 is 166375\n",
      "cube of 100 is 175616\n",
      "cube of 100 is 185193\n",
      "cube of 100 is 195112\n",
      "cube of 100 is 205379\n",
      "cube of 100 is 216000\n",
      "cube of 100 is 226981\n",
      "cube of 100 is 238328\n",
      "cube of 100 is 250047\n",
      "cube of 100 is 262144\n",
      "cube of 100 is 274625\n",
      "cube of 100 is 287496\n",
      "cube of 100 is 300763\n",
      "cube of 100 is 314432\n",
      "cube of 100 is 328509\n",
      "cube of 100 is 343000\n",
      "cube of 100 is 357911\n",
      "cube of 100 is 373248\n",
      "cube of 100 is 389017\n",
      "cube of 100 is 405224\n",
      "cube of 100 is 421875\n",
      "cube of 100 is 438976\n",
      "cube of 100 is 456533\n",
      "cube of 100 is 474552\n",
      "cube of 100 is 493039\n",
      "cube of 100 is 512000\n",
      "cube of 100 is 531441\n",
      "cube of 100 is 551368\n",
      "cube of 100 is 571787\n",
      "cube of 100 is 592704\n",
      "cube of 100 is 614125\n",
      "cube of 100 is 636056\n",
      "cube of 100 is 658503\n",
      "cube of 100 is 681472\n",
      "cube of 100 is 704969\n",
      "cube of 100 is 729000\n",
      "cube of 100 is 753571\n",
      "cube of 100 is 778688\n",
      "cube of 100 is 804357\n",
      "cube of 100 is 830584\n",
      "cube of 100 is 857375\n",
      "cube of 100 is 884736\n",
      "cube of 100 is 912673\n",
      "cube of 100 is 941192\n",
      "cube of 100 is 970299\n",
      "cube of 100 is 1000000\n",
      "[2, 4, 5, 6, 8, 10, 12, 14, 15, 16, 18, 20, 22, 24, 25, 26, 28, 30, 32, 34, 35, 36, 38, 40, 42, 44, 45, 46, 48, 50, 52, 54, 55, 56, 58, 60, 62, 64, 65, 66, 68, 70, 72, 74, 75, 76, 78, 80, 82, 84, 85, 86, 88, 90, 92, 94, 95, 96, 98, 100]\n"
     ]
    }
   ],
   "source": [
    "numbers = list(range(1, 101)) # create a list of numbers from 1 to 100\n",
    "print(numbers)\n",
    "\n",
    "result_list = [] # create an empty list to store the results\n",
    "\n",
    "for num in numbers:\n",
    "    cube = num ** 3# calculate the cube of each number\n",
    "    print(\"cube of\", i, \"is\",cube)\n",
    "    if cube % 4 == 0 or cube % 5 == 0: # check if the cube is divisible by 4 or 5\n",
    "        result_list.append(num) # append the number to the result list\n",
    "\n",
    "print(result_list) # print the result list\n"
   ]
  },
  {
   "cell_type": "code",
   "execution_count": null,
   "id": "32696ae4-e054-42b1-87cb-ab7a9a955d84",
   "metadata": {},
   "outputs": [],
   "source": [
    "Q5.  Write a program to filter count vowels in the below-given string.\n",
    "\n",
    "string = \"I want to become a data scientist\""
   ]
  },
  {
   "cell_type": "code",
   "execution_count": 50,
   "id": "d71386e0-481e-4c53-8649-faa2f66a0954",
   "metadata": {},
   "outputs": [
    {
     "name": "stdout",
     "output_type": "stream",
     "text": [
      "The number of vowels in the string is: 12\n"
     ]
    }
   ],
   "source": [
    "string = \"I want to become a data scientist\"\n",
    "\n",
    "vowels = 'aeiouAEIOU'\n",
    "count = 0\n",
    "\n",
    "for char in string:\n",
    "    if char in vowels:\n",
    "        count += 1\n",
    "\n",
    "print(\"The number of vowels in the string is:\", count)"
   ]
  },
  {
   "cell_type": "code",
   "execution_count": null,
   "id": "88313bb3-aa93-464f-8e6d-df87cd9d566e",
   "metadata": {},
   "outputs": [],
   "source": []
  }
 ],
 "metadata": {
  "kernelspec": {
   "display_name": "Python 3 (ipykernel)",
   "language": "python",
   "name": "python3"
  },
  "language_info": {
   "codemirror_mode": {
    "name": "ipython",
    "version": 3
   },
   "file_extension": ".py",
   "mimetype": "text/x-python",
   "name": "python",
   "nbconvert_exporter": "python",
   "pygments_lexer": "ipython3",
   "version": "3.10.8"
  }
 },
 "nbformat": 4,
 "nbformat_minor": 5
}
