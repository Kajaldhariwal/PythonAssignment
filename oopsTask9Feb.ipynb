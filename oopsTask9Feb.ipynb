{
 "cells": [
  {
   "cell_type": "code",
   "execution_count": null,
   "id": "624c461a-819e-4345-8a13-b7ab778f5c8c",
   "metadata": {},
   "outputs": [],
   "source": [
    "                          Oops Task - 9 Feb\n",
    "Q1. Create a vehicle class with an init method having instance variables as name_of_vehicle, max_speed\n",
    "    and average_of_vehicle.\n",
    "    \n",
    "Ans.  "
   ]
  },
  {
   "cell_type": "code",
   "execution_count": 28,
   "id": "4eb5fd32-3a26-4457-ade1-017b6d0568fe",
   "metadata": {},
   "outputs": [],
   "source": [
    "class vehicle : \n",
    "    \n",
    "    def __init__(self ,name_of_vehicle , max_speed, average_of_speed ):\n",
    "        self.name_of_vehicle = name_of_vehicle\n",
    "        self. max_speed =  max_speed\n",
    "        self. average_of_speed  =  average_of_speed \n",
    "        \n",
    "        \n",
    "    def vehicle_details(self):\n",
    "        print(self.name_of_vehicle, self.max_speed, self.average_of_speed)\n",
    "        \n",
    "   "
   ]
  },
  {
   "cell_type": "code",
   "execution_count": 29,
   "id": "2bc58ddf-7a0f-4dfc-acc4-6d2e3ca75312",
   "metadata": {},
   "outputs": [],
   "source": [
    "c = vehicle(\"car\", 180, 50)"
   ]
  },
  {
   "cell_type": "code",
   "execution_count": 30,
   "id": "fa7a21d8-b4b4-4b6b-8eec-02fd07be41eb",
   "metadata": {},
   "outputs": [
    {
     "data": {
      "text/plain": [
       "50"
      ]
     },
     "execution_count": 30,
     "metadata": {},
     "output_type": "execute_result"
    }
   ],
   "source": [
    "c.average_of_speed"
   ]
  },
  {
   "cell_type": "code",
   "execution_count": 32,
   "id": "cd0e5742-2cf0-4886-8d02-a25af828a97b",
   "metadata": {},
   "outputs": [
    {
     "name": "stdout",
     "output_type": "stream",
     "text": [
      "car 180 50\n"
     ]
    }
   ],
   "source": [
    "c.vehicle_details()"
   ]
  },
  {
   "cell_type": "code",
   "execution_count": null,
   "id": "e853b5fe-7ba3-4f9d-bdc6-3164a5e72cbf",
   "metadata": {},
   "outputs": [],
   "source": [
    "Q2. Create a child class car from the vehicle class created in Que 1, which will inherit the vehicle class.\n",
    "    Create a method named seating_capacity which takes capacity as an argument and returns the name of\n",
    "    the vehicle and its seating capacity."
   ]
  },
  {
   "cell_type": "code",
   "execution_count": 4,
   "id": "8b52436e-667f-499e-8d95-70aa8aec1074",
   "metadata": {},
   "outputs": [],
   "source": [
    "\n",
    "\n",
    "class car(vehicle):\n",
    "    def __init__(name_of_capacity,two_seater, four_seater, lexus_car):\n",
    "        name_of_capacity.two_seater = two_seater \n",
    "        name_of_capacity.four_seater = four_seater\n",
    "        name_of_capacity.lexus_car = lexus_car\n",
    "        \n",
    "        pass\n",
    "        \n",
    "\n",
    "       "
   ]
  },
  {
   "cell_type": "code",
   "execution_count": 5,
   "id": "6806281b-f1a2-44bd-85e2-96379f43c6c4",
   "metadata": {},
   "outputs": [],
   "source": [
    " car1 = vehicle(\"porshe 911\", \"Lexus 300h\", \"Mercedes AWG GT Four-door\")"
   ]
  },
  {
   "cell_type": "code",
   "execution_count": 6,
   "id": "50c3b80b-af01-4ddf-b63b-dd6e183f083e",
   "metadata": {},
   "outputs": [
    {
     "data": {
      "text/plain": [
       "'Mercedes AWG GT Four-door'"
      ]
     },
     "execution_count": 6,
     "metadata": {},
     "output_type": "execute_result"
    }
   ],
   "source": [
    "car1.lexus_car"
   ]
  },
  {
   "cell_type": "code",
   "execution_count": null,
   "id": "0a008500-9b27-4445-a9c4-db96121c0027",
   "metadata": {},
   "outputs": [],
   "source": [
    "Q3. What is multiple inheritance? Write a python code to demonstrate multiple inheritance.\n",
    "Ans. Multiple Inheritance :-\n",
    "     When a class is derived from more than one base class it is called multiple Inheritance. The derived class\n",
    "     inherits all the features of the base case."
   ]
  },
  {
   "cell_type": "code",
   "execution_count": 52,
   "id": "7dd58ed2-2ea6-4b00-b63b-108fa432c9ca",
   "metadata": {},
   "outputs": [
    {
     "name": "stdout",
     "output_type": "stream",
     "text": [
      "Father : RAM\n",
      "Mother : SITA\n"
     ]
    }
   ],
   "source": [
    "\n",
    "# Python program to demonstrate\n",
    "# multiple inheritance\n",
    " \n",
    "# Base class1\n",
    "class Mother:\n",
    "    mothername = \"\"\n",
    " \n",
    "    def mother(self):\n",
    "        print(self.mothername)\n",
    " \n",
    "# Base class2\n",
    " \n",
    " \n",
    "class Father:\n",
    "    fathername = \"\"\n",
    " \n",
    "    def father(self):\n",
    "        print(self.fathername)\n",
    " \n",
    "# Derived class\n",
    " \n",
    " \n",
    "class Son(Mother, Father):\n",
    "    def parents(self):\n",
    "        print(\"Father :\", self.fathername)\n",
    "        print(\"Mother :\", self.mothername)\n",
    " \n",
    " \n",
    "# Driver's code\n",
    "s1 = Son()\n",
    "s1.fathername = \"RAM\"\n",
    "s1.mothername = \"SITA\"\n",
    "s1.parents()\n"
   ]
  },
  {
   "cell_type": "code",
   "execution_count": null,
   "id": "ebadfafe-dc5e-4dc1-95a9-6f57a0806fb2",
   "metadata": {},
   "outputs": [],
   "source": [
    "Q4. What are getter and setter in python? Create a class and create a getter and a setter method in this\n",
    "    class.\n",
    "Ans. Getter:- A method that allows you to access an attribute in a given class\n",
    "     Setter: - A method that allows you to set or mutate the value of an attribute in a class"
   ]
  },
  {
   "cell_type": "code",
   "execution_count": 53,
   "id": "34fed3cf-3273-4028-96c8-f22242cf8949",
   "metadata": {},
   "outputs": [],
   "source": [
    "\n",
    "class Point:\n",
    "    def __init__(self, x, y):\n",
    "        self.x = x\n",
    "        self.y = y\n",
    "\n",
    "    def __getattr__(self, name: str):\n",
    "        return self.__dict__[f\"_{name}\"]\n",
    "\n",
    "    def __setattr__(self, name, value):\n",
    "        self.__dict__[f\"_{name}\"] = float(value)"
   ]
  },
  {
   "cell_type": "code",
   "execution_count": null,
   "id": "e37eb003-11a2-4f0f-8c79-872be20e9679",
   "metadata": {},
   "outputs": [],
   "source": [
    "Q5.What is method overriding in python? Write a python code to demonstrate method overriding.\n",
    "Ans. Method overriding is an ability of any object-oriented programming language that allows \n",
    "     a subclass or child class to provide a specific implementation of a method that is already provided by one of its \n",
    "     super-classes or parent classes."
   ]
  },
  {
   "cell_type": "code",
   "execution_count": 54,
   "id": "69e97012-a1a6-4b51-904a-9534bdb5fa4c",
   "metadata": {},
   "outputs": [
    {
     "name": "stdout",
     "output_type": "stream",
     "text": [
      "Inside Parent\n",
      "Inside Child\n"
     ]
    }
   ],
   "source": [
    "# Python program to demonstrate\n",
    "# method overriding\n",
    "\n",
    "\n",
    "# Defining parent class\n",
    "class Parent():\n",
    "\t\n",
    "\t# Constructor\n",
    "\tdef __init__(self):\n",
    "\t\tself.value = \"Inside Parent\"\n",
    "\t\t\n",
    "\t# Parent's show method\n",
    "\tdef show(self):\n",
    "\t\tprint(self.value)\n",
    "\t\t\n",
    "# Defining child class\n",
    "class Child(Parent):\n",
    "\t\n",
    "\t# Constructor\n",
    "\tdef __init__(self):\n",
    "\t\tself.value = \"Inside Child\"\n",
    "\t\t\n",
    "\t# Child's show method\n",
    "\tdef show(self):\n",
    "\t\tprint(self.value)\n",
    "\t\t\n",
    "\t\t\n",
    "# Driver's code\n",
    "obj1 = Parent()\n",
    "obj2 = Child()\n",
    "\n",
    "obj1.show()\n",
    "obj2.show()\n"
   ]
  },
  {
   "cell_type": "code",
   "execution_count": null,
   "id": "0c5d6d2d-1f6b-40bb-88a0-7ef502b63027",
   "metadata": {},
   "outputs": [],
   "source": []
  }
 ],
 "metadata": {
  "kernelspec": {
   "display_name": "Python 3 (ipykernel)",
   "language": "python",
   "name": "python3"
  },
  "language_info": {
   "codemirror_mode": {
    "name": "ipython",
    "version": 3
   },
   "file_extension": ".py",
   "mimetype": "text/x-python",
   "name": "python",
   "nbconvert_exporter": "python",
   "pygments_lexer": "ipython3",
   "version": "3.10.8"
  }
 },
 "nbformat": 4,
 "nbformat_minor": 5
}
